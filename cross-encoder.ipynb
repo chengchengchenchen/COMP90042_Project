{
 "cells": [
  {
   "cell_type": "code",
   "execution_count": 19,
   "id": "8ac460ec",
   "metadata": {},
   "outputs": [],
   "source": [
    "import json\n",
    "from datasets import Dataset\n",
    "def build_pairs(claims_fp, dense_fp):\n",
    "    claims = json.load(open(claims_fp, 'r', encoding='utf-8'))\n",
    "    dense  = json.load(open(dense_fp, 'r', encoding='utf-8'))\n",
    "    pairs  = []\n",
    "    for cid, c_info in claims.items():\n",
    "        text_c = c_info[\"claim_text\"]\n",
    "        pos_set = set(c_info[\"evidences\"])\n",
    "        for cand in dense[cid][\"ranked_evidences\"]:\n",
    "            pairs.append({\n",
    "                \"cid\": cid,\n",
    "                \"evid_id\": cand[\"id\"],\n",
    "                \"claim_text\": text_c,\n",
    "                \"evid_text\": cand[\"text\"],\n",
    "                \"label\": int(cand.get(\"id\") in pos_set)\n",
    "            })\n",
    "    return pairs"
   ]
  },
  {
   "cell_type": "code",
   "execution_count": 20,
   "id": "975641b5",
   "metadata": {},
   "outputs": [],
   "source": [
    "train_pairs = build_pairs(\"./data/train-claims.json\", \"./data/train-claims-top20-text.json\")\n",
    "dev_pairs = build_pairs(\"./data/dev-claims.json\", \"./data/dev-claims-top20-text.json\")"
   ]
  },
  {
   "cell_type": "code",
   "execution_count": null,
   "id": "18cd9bcc",
   "metadata": {},
   "outputs": [
    {
     "data": {
      "application/vnd.jupyter.widget-view+json": {
       "model_id": "ffbdda2702004a7885fd9d1f55778222",
       "version_major": 2,
       "version_minor": 0
      },
      "text/plain": [
       "Map:   0%|          | 0/24560 [00:00<?, ? examples/s]"
      ]
     },
     "metadata": {},
     "output_type": "display_data"
    },
    {
     "data": {
      "application/vnd.jupyter.widget-view+json": {
       "model_id": "70041e3a319c4426be548651cd3d35a5",
       "version_major": 2,
       "version_minor": 0
      },
      "text/plain": [
       "Map:   0%|          | 0/3080 [00:00<?, ? examples/s]"
      ]
     },
     "metadata": {},
     "output_type": "display_data"
    },
    {
     "name": "stderr",
     "output_type": "stream",
     "text": [
      "Some weights of DistilBertForSequenceClassification were not initialized from the model checkpoint at distilbert-base-uncased and are newly initialized: ['classifier.bias', 'classifier.weight', 'pre_classifier.bias', 'pre_classifier.weight']\n",
      "You should probably TRAIN this model on a down-stream task to be able to use it for predictions and inference.\n",
      "C:\\Users\\77280\\AppData\\Local\\Temp\\ipykernel_19792\\1560284011.py:59: FutureWarning: `tokenizer` is deprecated and will be removed in version 5.0.0 for `Trainer.__init__`. Use `processing_class` instead.\n",
      "  trainer = Trainer(\n"
     ]
    },
    {
     "data": {
      "text/html": [
       "\n",
       "    <div>\n",
       "      \n",
       "      <progress value='9210' max='9210' style='width:300px; height:20px; vertical-align: middle;'></progress>\n",
       "      [9210/9210 14:58, Epoch 3/3]\n",
       "    </div>\n",
       "    <table border=\"1\" class=\"dataframe\">\n",
       "  <thead>\n",
       " <tr style=\"text-align: left;\">\n",
       "      <th>Epoch</th>\n",
       "      <th>Training Loss</th>\n",
       "      <th>Validation Loss</th>\n",
       "      <th>F1</th>\n",
       "    </tr>\n",
       "  </thead>\n",
       "  <tbody>\n",
       "    <tr>\n",
       "      <td>1</td>\n",
       "      <td>0.208800</td>\n",
       "      <td>0.217234</td>\n",
       "      <td>0.000000</td>\n",
       "    </tr>\n",
       "    <tr>\n",
       "      <td>2</td>\n",
       "      <td>0.197400</td>\n",
       "      <td>0.236080</td>\n",
       "      <td>0.000000</td>\n",
       "    </tr>\n",
       "    <tr>\n",
       "      <td>3</td>\n",
       "      <td>0.157000</td>\n",
       "      <td>0.244454</td>\n",
       "      <td>0.022857</td>\n",
       "    </tr>\n",
       "  </tbody>\n",
       "</table><p>"
      ],
      "text/plain": [
       "<IPython.core.display.HTML object>"
      ]
     },
     "metadata": {},
     "output_type": "display_data"
    },
    {
     "data": {
      "text/plain": [
       "TrainOutput(global_step=9210, training_loss=0.2048562290614125, metrics={'train_runtime': 898.4161, 'train_samples_per_second': 82.011, 'train_steps_per_second': 10.251, 'total_flos': 4880098966487040.0, 'train_loss': 0.2048562290614125, 'epoch': 3.0})"
      ]
     },
     "execution_count": 17,
     "metadata": {},
     "output_type": "execute_result"
    }
   ],
   "source": [
    "from datasets import Dataset\n",
    "from transformers import (\n",
    "    AutoTokenizer, AutoModelForSequenceClassification,\n",
    "    Trainer, TrainingArguments, DataCollatorWithPadding\n",
    ")\n",
    "import numpy as np\n",
    "from sklearn.metrics import f1_score\n",
    "\n",
    "# 1. HF Dataset\n",
    "train_ds = Dataset.from_list(train_pairs)\n",
    "dev_ds   = Dataset.from_list(dev_pairs)\n",
    "\n",
    "# 2. tokenizer + map\n",
    "MODEL_NAME = \"distilbert-base-uncased\"\n",
    "tokenizer  = AutoTokenizer.from_pretrained(MODEL_NAME)\n",
    "def preprocess(batch):\n",
    "    enc = tokenizer(\n",
    "        batch[\"claim_text\"],\n",
    "        batch[\"evid_text\"],\n",
    "        truncation='only_second',\n",
    "        padding='max_length',\n",
    "        max_length=256\n",
    "    )\n",
    "    enc['labels'] = batch['label']\n",
    "    enc['cid']    = batch['cid']\n",
    "    return enc\n",
    "train_ds = train_ds.map(preprocess, batched=True)\n",
    "dev_ds   = dev_ds.map(preprocess, batched=True)\n",
    "\n",
    "# 3. model + collator\n",
    "model = AutoModelForSequenceClassification.from_pretrained(\n",
    "    MODEL_NAME, num_labels=2\n",
    ")\n",
    "model.gradient_checkpointing_enable()\n",
    "\n",
    "data_collator = DataCollatorWithPadding(tokenizer)\n",
    "\n",
    "# 4. TrainingArguments\n",
    "args = TrainingArguments(\n",
    "    output_dir=\"./checkpoints\",\n",
    "    eval_strategy=\"epoch\",\n",
    "    save_strategy=\"epoch\",\n",
    "    per_device_train_batch_size=4,\n",
    "    per_device_eval_batch_size=8,\n",
    "    gradient_accumulation_steps=2,\n",
    "    fp16=True,\n",
    "    logging_steps=100,\n",
    "    load_best_model_at_end=True,\n",
    "    metric_for_best_model=\"f1\",\n",
    ")\n",
    "\n",
    "# 5. compute_metrics\n",
    "def compute_metrics(eval_pred):\n",
    "    logits, labels = eval_pred\n",
    "    preds = np.argmax(logits, axis=-1)\n",
    "    return {\"f1\": f1_score(labels, preds)}\n",
    "\n",
    "# 6. Trainer\n",
    "trainer = Trainer(\n",
    "    model=model,\n",
    "    args=args,\n",
    "    train_dataset=train_ds,\n",
    "    eval_dataset=dev_ds,\n",
    "    tokenizer=tokenizer,\n",
    "    data_collator=data_collator,\n",
    "    compute_metrics=compute_metrics,\n",
    ")\n",
    "\n",
    "trainer.train()"
   ]
  },
  {
   "cell_type": "code",
   "execution_count": 22,
   "id": "3634454c",
   "metadata": {},
   "outputs": [
    {
     "data": {
      "text/html": [],
      "text/plain": [
       "<IPython.core.display.HTML object>"
      ]
     },
     "metadata": {},
     "output_type": "display_data"
    },
    {
     "name": "stdout",
     "output_type": "stream",
     "text": [
      "[[ 2.1855469 -2.4472656]\n",
      " [ 2.1738281 -2.4277344]\n",
      " [ 2.1738281 -2.4277344]\n",
      " ...\n",
      " [ 2.1445312 -2.3886719]\n",
      " [ 2.078125  -2.3066406]\n",
      " [ 2.1601562 -2.4101562]]\n"
     ]
    },
    {
     "ename": "ValueError",
     "evalue": "cannot select an axis to squeeze out which has size not equal to one",
     "output_type": "error",
     "traceback": [
      "\u001b[31m---------------------------------------------------------------------------\u001b[39m",
      "\u001b[31mValueError\u001b[39m                                Traceback (most recent call last)",
      "\u001b[36mCell\u001b[39m\u001b[36m \u001b[39m\u001b[32mIn[22]\u001b[39m\u001b[32m, line 6\u001b[39m\n\u001b[32m      4\u001b[39m preds = trainer.predict(dev_ds).predictions  \u001b[38;5;66;03m# shape (num_examples, 1)\u001b[39;00m\n\u001b[32m      5\u001b[39m \u001b[38;5;28mprint\u001b[39m(preds)\n\u001b[32m----> \u001b[39m\u001b[32m6\u001b[39m scores = \u001b[43mpreds\u001b[49m\u001b[43m.\u001b[49m\u001b[43msqueeze\u001b[49m\u001b[43m(\u001b[49m\u001b[43m-\u001b[49m\u001b[32;43m1\u001b[39;49m\u001b[43m)\u001b[49m\n\u001b[32m      8\u001b[39m top6_per_claim = defaultdict(\u001b[38;5;28mlist\u001b[39m)\n\u001b[32m      9\u001b[39m \u001b[38;5;28;01mfor\u001b[39;00m i, pair \u001b[38;5;129;01min\u001b[39;00m \u001b[38;5;28menumerate\u001b[39m(dev_pairs):\n",
      "\u001b[31mValueError\u001b[39m: cannot select an axis to squeeze out which has size not equal to one"
     ]
    }
   ],
   "source": [
    "from scipy.special import softmax\n",
    "from collections import defaultdict\n",
    "\n",
    "preds = trainer.predict(dev_ds).predictions  # shape (num_examples, 1)\n",
    "print(preds)\n",
    "scores = preds.squeeze(-1)\n",
    "\n",
    "top6_per_claim = defaultdict(list)\n",
    "for i, pair in enumerate(dev_pairs):\n",
    "    cid = pair['cid']\n",
    "    eid = pair['evid_id']\n",
    "    top6_per_claim[cid].append((eid, scores[i].item()))\n",
    "\n",
    "output = {\n",
    "    cid: [eid for eid, _ in sorted(lst, key=lambda x: x[1], reverse=True)[:6]]\n",
    "    for cid, lst in top6_per_claim.items()\n",
    "}\n",
    "\n",
    "with open(\"dev-claims-top6-dense-distillbert.json\", \"w\", encoding=\"utf-8\") as f:\n",
    "    json.dump(output, f, indent=2, ensure_ascii=False)"
   ]
  }
 ],
 "metadata": {
  "kernelspec": {
   "display_name": "nlp",
   "language": "python",
   "name": "python3"
  },
  "language_info": {
   "codemirror_mode": {
    "name": "ipython",
    "version": 3
   },
   "file_extension": ".py",
   "mimetype": "text/x-python",
   "name": "python",
   "nbconvert_exporter": "python",
   "pygments_lexer": "ipython3",
   "version": "3.11.11"
  }
 },
 "nbformat": 4,
 "nbformat_minor": 5
}
